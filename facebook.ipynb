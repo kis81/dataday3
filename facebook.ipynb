{
 "cells": [
  {
   "cell_type": "markdown",
   "metadata": {
    "pycharm": {
     "name": "#%% md\n"
    }
   },
   "source": [
    "<h2> DataDay 2024 </h2>\n",
    "<h3> Som príliš často na sociálnej sieti, čo hovoria dáta? </h3>\n",
    "<h4> doc. Mgr. Jozef Kiseľák, PhD. </h4>"
   ]
  },
  {
   "cell_type": "markdown",
   "metadata": {
    "pycharm": {
     "name": "#%% md\n"
    }
   },
   "source": [
    "Svoje facebookove údaje si môžte stiahnuť na linku: https://www.facebook.com/dyi/?referrer=yfi_settings\n",
    "Alebo použite súbor your_posts_1.json z GitHubu.\n"
   ]
  },
  {
   "cell_type": "markdown",
   "metadata": {
    "pycharm": {
     "name": "#%% md\n"
    }
   },
   "source": [
    "Najprv si načítame knižnice (moduly), ktoré budeme využívať.\n",
    "\n",
    "Medzi najzákladnejšie patrí knižnica Pandas, ktorá slúži na manipuláciu s dátami a ich analýzu. Na ďalšie operácie s dátovými štruktúrami nám bude slúžiť aj knižnica NumPy.\n",
    "\n",
    "Ďalšími podstatnými knižnicami, ktoré využijeme sú knižnice Seaborn a Matplotlib, ktoré nám poslúžia na vizualizáciu našich údajov."
   ]
  },
  {
   "cell_type": "markdown",
   "metadata": {
    "pycharm": {
     "name": "#%% md\n"
    }
   },
   "source": [
    "<h4> Importy </h4>"
   ]
  },
  {
   "cell_type": "code",
   "execution_count": null,
   "metadata": {
    "pycharm": {
     "name": "#%%\n"
    }
   },
   "outputs": [],
   "source": [
    "import pandas as pd\n",
    "import matplotlib.pyplot as plt\n",
    "import seaborn as sns\n",
    "import numpy as np\n",
    "from statsmodels.graphics.tsaplots import plot_acf\n",
    "from statsmodels.tsa.stattools import adfuller"
   ]
  },
  {
   "cell_type": "markdown",
   "metadata": {
    "pycharm": {
     "name": "#%% md\n"
    }
   },
   "source": [
    "<h4> Načítanie údajov a ich spracovanie </h4>"
   ]
  },
  {
   "cell_type": "markdown",
   "metadata": {
    "pycharm": {
     "name": "#%% md\n"
    }
   },
   "source": [
    "Knižnica Pandas obsahuje užitočnú dátovu štruktúru DataFrame, do ktorej si načítame naše údaje.\n",
    "\n",
    "DataFrame, alebo dátový rámec je štruktúra, ktorá je určená najmä pre tabuľkové údaje a vďaka nej vieme efektívne pracovať aj s veľkými súbormi."
   ]
  },
  {
   "cell_type": "code",
   "execution_count": null,
   "metadata": {
    "pycharm": {
     "name": "#%%\n"
    }
   },
   "outputs": [],
   "source": [
    "df = pd.read_json('your_posts_1.json')\n",
    "#event = pd.read_json('event_invitations.json')"
   ]
  },
  {
   "cell_type": "markdown",
   "metadata": {
    "pycharm": {
     "name": "#%% md\n"
    }
   },
   "source": [
    "Funkcia .head() nám poskytne náhľad do našich údajov. Bez dodatočných argumentov nám vypíše prvých 5 riadkov DataFrame-u. Ak by sme chceli vypísať viac, alebo menej riadkov, stačí požadovaný počet riadkov zadať do zátvoriek."
   ]
  },
  {
   "cell_type": "code",
   "execution_count": null,
   "metadata": {
    "pycharm": {
     "name": "#%%\n"
    }
   },
   "outputs": [],
   "source": [
    "df.head()\n",
    "# df.head(3)"
   ]
  },
  {
   "cell_type": "code",
   "execution_count": null,
   "metadata": {
    "pycharm": {
     "name": "#%%\n"
    }
   },
   "outputs": [],
   "source": [
    "print(f'Rozmery nášho DataFrame-u (počet riadkov, počet stĺpcov): {df.shape}')"
   ]
  },
  {
   "cell_type": "code",
   "execution_count": null,
   "metadata": {
    "pycharm": {
     "name": "#%%\n"
    }
   },
   "outputs": [],
   "source": [
    "#Pre jednoduchosť si premenujeme stĺpec s časovou pečiatkou \"timestamp\" na názov \"date\".\n",
    "df.rename(columns={'timestamp': 'date'}, inplace=True)\n",
    "df"
   ]
  },
  {
   "cell_type": "code",
   "execution_count": null,
   "metadata": {
    "pycharm": {
     "name": "#%%\n"
    }
   },
   "outputs": [],
   "source": [
    "#Niektoré zo stĺpcov v DataFrame nebudeme potrebovať, čiže ich môžme \"zahodiť\".\n",
    "df = df.drop(['attachments', 'title', 'tags'], axis=1)\n",
    "df"
   ]
  },
  {
   "cell_type": "code",
   "execution_count": null,
   "metadata": {
    "pycharm": {
     "name": "#%%\n"
    }
   },
   "outputs": [],
   "source": [
    "#Overenie, či má dátum správny formát YYYY-MM-DD HH:MM:SS.\n",
    "df['date'] = pd.to_datetime(df['date'])\n",
    "df"
   ]
  },
  {
   "cell_type": "code",
   "execution_count": null,
   "metadata": {
    "pycharm": {
     "name": "#%%\n"
    }
   },
   "outputs": [],
   "source": [
    "print(f'Rozmery nášho DataFrame-u (počet riadkov, počet stĺpcov), po vymazaní stĺpcov: {df.shape}')"
   ]
  },
  {
   "cell_type": "markdown",
   "metadata": {
    "pycharm": {
     "name": "#%% md\n"
    }
   },
   "source": [
    "Podobne ako u funkcie .head(), ktorá nám vypísala počiatočné riadky, nám funkcia .tail() vypíše koncové riadky."
   ]
  },
  {
   "cell_type": "code",
   "execution_count": null,
   "metadata": {
    "pycharm": {
     "name": "#%%\n"
    }
   },
   "outputs": [],
   "source": [
    "df.tail()\n",
    "# df.tail(3)"
   ]
  },
  {
   "cell_type": "code",
   "execution_count": null,
   "metadata": {
    "pycharm": {
     "name": "#%%\n"
    }
   },
   "outputs": [],
   "source": [
    "#Nastavíme si v DataFrame ako hlavný index dátum.\n",
    "df.set_index('date',inplace=True)"
   ]
  },
  {
   "cell_type": "markdown",
   "metadata": {
    "pycharm": {
     "name": "#%% md\n"
    }
   },
   "source": [
    "V nasledujúcej bunke sa naše údaje - teda interakcie na sociálnej sieti, rozdelia do skupiniek po mesiacoch v jednotlivých rokoch, v ktorých sa odohrali. Stĺpec \"date\" teraz nebude obsahovať informácie vo formáte YYYY-MM-DD HH:MM:SS, ale už len YYYY-MM-01, keďže sme nerozlišovali deň, v ktorých boli dané posty vytvorené.\n",
    "\n",
    "Funkcia .size() nám uloží do stĺpca \"data\" počet príspevkov, ktoré boli v danom mesiaci daného roka vytvorené."
   ]
  },
  {
   "cell_type": "code",
   "execution_count": null,
   "metadata": {
    "pycharm": {
     "name": "#%%\n"
    }
   },
   "outputs": [],
   "source": [
    "post_counts=df.resample('MS').size()  #For 'MS' the dates of the groups are always the first of the month, for 'M' the last day.\n",
    "#post_means=post_counts.resample('YS').mean(numeric_only=True)"
   ]
  },
  {
   "cell_type": "markdown",
   "metadata": {
    "pycharm": {
     "name": "#%% md\n"
    }
   },
   "source": [
    "Ukážka novozískaných údajov:"
   ]
  },
  {
   "cell_type": "code",
   "execution_count": null,
   "metadata": {
    "pycharm": {
     "name": "#%%\n"
    }
   },
   "outputs": [],
   "source": [
    "post_counts"
   ]
  },
  {
   "cell_type": "markdown",
   "metadata": {
    "pycharm": {
     "name": "#%% md\n"
    }
   },
   "source": [
    "V ďalšom kroku si vyberieme nejaký počiatočný a koncový dátum, pre ktoré si z DataFrame-u o počte príspevkov za jednotlivé mesiace zoberieme podmnožinu údajov pre vizualizáciu."
   ]
  },
  {
   "cell_type": "code",
   "execution_count": null,
   "metadata": {
    "pycharm": {
     "name": "#%%\n"
    }
   },
   "outputs": [],
   "source": [
    "start_date = '2021-11-15'\n",
    "end_date   = '2022-11-18'\n",
    "#Nasledujúci príkaz šikovne zoberie len tie riadky, ktoré budú v nami zadanom rozsahu dátumov.\n",
    "df2 = df.query('date >= @start_date and date <= @end_date')\n",
    "df2"
   ]
  },
  {
   "cell_type": "markdown",
   "metadata": {
    "pycharm": {
     "name": "#%% md\n"
    }
   },
   "source": [
    "<h4> Vizualizácia </h4>"
   ]
  },
  {
   "cell_type": "code",
   "execution_count": null,
   "metadata": {
    "pycharm": {
     "name": "#%%\n"
    }
   },
   "outputs": [],
   "source": [
    "#Nastavenie predvolenej veľkosti grafu a veľkosti písma.\n",
    "sns.set(rc={'figure.figsize':(10,5)})\n",
    "sns.set(font_scale=1)"
   ]
  },
  {
   "cell_type": "code",
   "execution_count": null,
   "metadata": {
    "pycharm": {
     "name": "#%%\n"
    }
   },
   "outputs": [],
   "source": [
    "#Na os x budeme chcieť jednotlivé dátumy - vložínme si teda tento stĺpec do premennej x_labels.\n",
    "x_labels = post_counts.index\n",
    "x_labels"
   ]
  },
  {
   "cell_type": "code",
   "execution_count": null,
   "metadata": {
    "pycharm": {
     "name": "#%%\n"
    }
   },
   "outputs": [],
   "source": [
    "fig, ax = plt.subplots()\n",
    "ax.bar(x_labels,post_counts,color = \"black\",edgecolor = \"black\", linewidth = 2)\n",
    "plt.show()"
   ]
  },
  {
   "cell_type": "code",
   "execution_count": null,
   "metadata": {
    "pycharm": {
     "name": "#%%\n"
    }
   },
   "outputs": [],
   "source": [
    "plt.plot(post_counts, marker='o')\n",
    "plt.show()"
   ]
  },
  {
   "cell_type": "code",
   "execution_count": null,
   "metadata": {
    "pycharm": {
     "name": "#%%\n"
    }
   },
   "outputs": [],
   "source": [
    "ax = post_counts.plot(x='Date', y='Number of posts')\n",
    "plt.show()"
   ]
  },
  {
   "cell_type": "code",
   "execution_count": null,
   "metadata": {
    "pycharm": {
     "name": "#%%\n"
    }
   },
   "outputs": [],
   "source": [
    "xcoords = ['2008-01-01', '2009-01-01', '2010-01-01', '2011-01-01', '2012-01-01', '2013-01-01', '2014-01-01', '2015-01-01', '2016-01-01','2017-01-01', '2018-01-01', '2019-01-01', '2020-01-01', '2021-01-01', '2022-01-01', '2023-01-01']\n",
    "for xc in xcoords:\n",
    "    plt.axvline(x=xc, color='black', linestyle='--')\n",
    "# plt.scatter(x_labels, post_counts)\n",
    "# post_freq=post_counts/np.sum(post_counts)  #frekvencie\n",
    "# plt.plot(post_freq, marker='o')"
   ]
  },
  {
   "cell_type": "code",
   "execution_count": null,
   "metadata": {
    "pycharm": {
     "name": "#%%\n"
    }
   },
   "outputs": [],
   "source": [
    "post_counts.hist()\n",
    "plt.show()"
   ]
  },
  {
   "cell_type": "code",
   "execution_count": null,
   "metadata": {
    "pycharm": {
     "name": "#%%\n"
    }
   },
   "outputs": [],
   "source": [
    "plt.hist(post_counts, bins=20, linewidth=0.5, edgecolor=\"white\")\n",
    "plt.show()"
   ]
  },
  {
   "cell_type": "code",
   "execution_count": null,
   "metadata": {
    "pycharm": {
     "name": "#%%\n"
    }
   },
   "outputs": [],
   "source": [
    "post_counts.plot(kind='kde')\n",
    "plt.show()"
   ]
  },
  {
   "cell_type": "code",
   "execution_count": null,
   "metadata": {
    "pycharm": {
     "name": "#%%\n"
    }
   },
   "outputs": [],
   "source": [
    "#More points tighter in to the diagonal line suggests a stronger relationship and more spread from the line suggests a weaker relationship.\n",
    "#A ball in the middle or a spread across the plot suggests a weak or no relationship.\n",
    "pd.plotting.lag_plot(post_counts, lag=1)\n",
    "plt.show()"
   ]
  },
  {
   "cell_type": "code",
   "execution_count": null,
   "metadata": {
    "pycharm": {
     "name": "#%%\n"
    }
   },
   "outputs": [],
   "source": [
    "plot_acf(post_counts)"
   ]
  },
  {
   "cell_type": "code",
   "execution_count": null,
   "metadata": {
    "pycharm": {
     "name": "#%%\n"
    }
   },
   "outputs": [],
   "source": [
    "split = round(len(post_counts) / 2)\n",
    "X1, X2 = post_counts[0:split], post_counts[split:]\n",
    "mean1, mean2 = X1.mean(), X2.mean()\n",
    "var1, var2 = X1.var(), X2.var()\n",
    "print('mean1=%f, mean2=%f' % (mean1, mean2))\n",
    "print('variance1=%f, variance2=%f' % (var1, var2))"
   ]
  },
  {
   "cell_type": "code",
   "execution_count": null,
   "metadata": {
    "pycharm": {
     "name": "#%%\n"
    }
   },
   "outputs": [],
   "source": [
    "result = adfuller(post_counts)\n",
    "print('ADF Statistic: %f' % result[0])\n",
    "print('p-value: %f' % result[1])\n",
    "print('used lag: %f' % result[2])\n",
    "print('num. of obs.: %f' % result[3])\n",
    "print('Critical Values:')\n",
    "for key, value in result[4].items():\n",
    " print('\\t%s: %.3f' % (key, value))\n",
    "\n",
    "print('The maximized information criterion if autolag is not None: %f' % result[5])"
   ]
  },
  {
   "cell_type": "markdown",
   "metadata": {
    "pycharm": {
     "name": "#%% md\n"
    }
   },
   "source": [
    "<h2> Zdroje: </h2>\n",
    "\n",
    "Pôvodný Jupyter notebook FCBOOK.ipynb: https://colab.research.google.com/drive/1b355atUOd8xm6QbwfP6jkVQAmJoewIhZ"
   ]
  }
 ],
 "metadata": {
  "kernelspec": {
   "display_name": "Python 3 (ipykernel)",
   "language": "python",
   "name": "python3"
  },
  "language_info": {
   "codemirror_mode": {
    "name": "ipython",
    "version": 3
   },
   "file_extension": ".py",
   "mimetype": "text/x-python",
   "name": "python",
   "nbconvert_exporter": "python",
   "pygments_lexer": "ipython3",
   "version": "3.9.12"
  }
 },
 "nbformat": 4,
 "nbformat_minor": 1
}
